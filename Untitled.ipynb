{
 "cells": [
  {
   "cell_type": "code",
   "execution_count": null,
   "id": "b335be94-8286-4efa-9987-8c7aec5a3535",
   "metadata": {},
   "outputs": [],
   "source": [
    "import nltk\n",
    "from nltk.corpus import wordnet\n",
    "\n",
    "def correct_word(word):\n",
    "  \"\"\"Corrects a misspelled word.\n",
    "\n",
    "  Args:\n",
    "    word: The misspelled word.\n",
    "\n",
    "  Returns:\n",
    "    The corrected word, or None if the word is not in the dictionary.\n",
    "  \"\"\"\n",
    "  synsets = wordnet.synsets(word)\n",
    "  if not synsets:\n",
    "    return None\n",
    "\n",
    "  closest_synset = synsets[0]\n",
    "  for synset in synsets:\n",
    "    if synset.wup_similarity(closest_synset) > 0.8:\n",
    "      closest_synset = synset\n",
    "\n",
    "  return closest_synset.name()\n",
    "\n",
    "\n",
    "def main():\n",
    "  # Get the misspelled word from the user.\n",
    "  word = input(\"Enter a misspelled word: \")\n",
    "\n",
    "  # Correct the word.\n",
    "  corrected_word = correct_word(word)\n",
    "\n",
    "  # Print the corrected word.\n",
    "  if corrected_word is None:\n",
    "    print(\"The word is not in the dictionary.\")\n",
    "  else:\n",
    "    print(\"The corrected word is:\", corrected_word)\n",
    "\n",
    "\n",
    "if _name_ == \"_main_\":\n",
    "  main()"
   ]
  }
 ],
 "metadata": {
  "kernelspec": {
   "display_name": "Python 3 (ipykernel)",
   "language": "python",
   "name": "python3"
  },
  "language_info": {
   "codemirror_mode": {
    "name": "ipython",
    "version": 3
   },
   "file_extension": ".py",
   "mimetype": "text/x-python",
   "name": "python",
   "nbconvert_exporter": "python",
   "pygments_lexer": "ipython3",
   "version": "3.9.5"
  }
 },
 "nbformat": 4,
 "nbformat_minor": 5
}
